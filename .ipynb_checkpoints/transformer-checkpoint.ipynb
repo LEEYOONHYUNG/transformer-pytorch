{
 "cells": [
  {
   "cell_type": "code",
   "execution_count": null,
   "metadata": {},
   "outputs": [],
   "source": [
    "import torch\n",
    "import torch.nn as nn\n",
    "import torch.nn.functional as F\n",
    "from Transformer import Transformer_encoder, Transformer_decoder\n",
    "import matplotlib.pyplot as plt\n",
    "from math import sin, cos\n",
    "import seaborn as sns\n",
    "import numpy as np\n",
    "\n",
    "%load_ext autoreload\n",
    "%autoreload 2"
   ]
  },
  {
   "cell_type": "code",
   "execution_count": null,
   "metadata": {},
   "outputs": [],
   "source": [
    "BATCH_SIZE = 3\n",
    "MAX_LEN = 10\n",
    "NUM_LAYERS = 3\n",
    "NUM_HEADS = 4\n",
    "VOCA_SIZE = 10000\n",
    "EMBEDDING_DIM = 8\n",
    "\n",
    "def sentence(voca_size, length, max_len):\n",
    "    s = np.random.choice(voca_size, length)\n",
    "    pad = np.zeros(max_len -length)\n",
    "    return np.concatenate([s,pad])\n",
    "\n",
    "\n",
    "encoder_lengths = np.random.choice(range(5,MAX_LEN), BATCH_SIZE)\n",
    "decoder_lengths = np.random.choice(range(5,MAX_LEN), BATCH_SIZE)\n",
    "\n",
    "encoder_inputs = torch.LongTensor([sentence(VOCA_SIZE, l, MAX_LEN) for l in encoder_lengths])\n",
    "decoder_inputs = torch.LongTensor([sentence(VOCA_SIZE, l, MAX_LEN) for l in decoder_lengths])\n",
    "print(f\"Encoder lengths: {encoder_lengths}\")\n",
    "print(encoder_inputs)\n",
    "print()\n",
    "print(f\"Decoder lengths: {decoder_lengths}\")\n",
    "print(decoder_inputs)"
   ]
  },
  {
   "cell_type": "code",
   "execution_count": null,
   "metadata": {
    "scrolled": false
   },
   "outputs": [],
   "source": [
    "encoder = Transformer_encoder(NUM_LAYERS, NUM_HEADS, VOCA_SIZE, EMBEDDING_DIM)\n",
    "decoder = Transformer_decoder(NUM_LAYERS, NUM_HEADS, VOCA_SIZE, EMBEDDING_DIM)\n",
    "\n",
    "context = encoder(encoder_inputs, encoder_lengths)\n",
    "outputs = decoder(decoder_inputs, context, decoder_lengths)\n",
    "\n",
    "print(f\"Context size: {context.size()}\")\n",
    "print(context[0])\n",
    "print()\n",
    "print(f\"Decoder output size: {context.size()}\")\n",
    "print(outputs[0])"
   ]
  }
 ],
 "metadata": {
  "kernelspec": {
   "display_name": "Python 3",
   "language": "python",
   "name": "python3"
  },
  "language_info": {
   "codemirror_mode": {
    "name": "ipython",
    "version": 3
   },
   "file_extension": ".py",
   "mimetype": "text/x-python",
   "name": "python",
   "nbconvert_exporter": "python",
   "pygments_lexer": "ipython3",
   "version": "3.6.7"
  }
 },
 "nbformat": 4,
 "nbformat_minor": 2
}
