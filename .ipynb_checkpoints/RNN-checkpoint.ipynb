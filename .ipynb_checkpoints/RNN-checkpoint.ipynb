{
 "cells": [
  {
   "cell_type": "code",
   "execution_count": null,
   "metadata": {},
   "outputs": [],
   "source": [
    "import torch\n",
    "import torch.nn as nn\n",
    "import torch.nn.functional as F\n",
    "from RNN import RNN_encoder, RNN_decoder\n",
    "import matplotlib.pyplot as plt\n",
    "from math import sin, cos\n",
    "import seaborn as sns\n",
    "import numpy as np\n",
    "\n",
    "%load_ext autoreload\n",
    "%autoreload 2"
   ]
  },
  {
   "cell_type": "code",
   "execution_count": null,
   "metadata": {},
   "outputs": [],
   "source": [
    "BATCH_SIZE = 3\n",
    "MAX_LEN = 10\n",
    "NUM_LAYERS = 3\n",
    "NUM_HEADS = 4\n",
    "VOCA_SIZE = 10000\n",
    "EMBEDDING_DIM = 8\n",
    "HIDDEN_DIM = 4\n",
    "\n",
    "def sentence(voca_size, length, max_len):\n",
    "    s = np.random.choice(voca_size, length)\n",
    "    pad = np.zeros(max_len -length)\n",
    "    return np.concatenate([s,pad])\n",
    "\n",
    "\n",
    "encoder_lengths = list(np.random.choice(range(5,MAX_LEN), BATCH_SIZE))\n",
    "decoder_lengths = list(np.random.choice(range(5,MAX_LEN), BATCH_SIZE))\n",
    "\n",
    "encoder_inputs = torch.LongTensor([sentence(VOCA_SIZE, l, MAX_LEN) for l in encoder_lengths])\n",
    "decoder_inputs = torch.LongTensor([sentence(VOCA_SIZE, l, MAX_LEN) for l in decoder_lengths])\n",
    "print(f\"Encoder lengths: {encoder_lengths}\")\n",
    "print(encoder_inputs)\n",
    "print()\n",
    "print(f\"Decoder lengths: {decoder_lengths}\")\n",
    "print(decoder_inputs)"
   ]
  },
  {
   "cell_type": "code",
   "execution_count": null,
   "metadata": {
    "scrolled": false
   },
   "outputs": [],
   "source": [
    "encoder = RNN_encoder(NUM_LAYERS, HIDDEN_DIM, VOCA_SIZE, EMBEDDING_DIM)\n",
    "context, context_lengths = encoder(encoder_inputs, encoder_lengths)\n",
    "print(f\"Context size: {context.size()}\")\n",
    "print(context[0])"
   ]
  },
  {
   "cell_type": "code",
   "execution_count": null,
   "metadata": {
    "scrolled": false
   },
   "outputs": [],
   "source": [
    "decoder = RNN_decoder(NUM_LAYERS, HIDDEN_DIM, VOCA_SIZE, EMBEDDING_DIM, MAX_LEN)\n",
    "outputs = decoder(decoder_inputs, context, context_lengths, decoder_lengths, train=True)\n",
    "print(f\"Decoder output size: {outputs.size()}\")\n",
    "print(outputs[0])"
   ]
  },
  {
   "cell_type": "code",
   "execution_count": null,
   "metadata": {},
   "outputs": [],
   "source": [
    "encoder_lengths = list(np.random.choice(range(5, MAX_LEN), 1))\n",
    "decoder_lengths = list(np.random.choice(range(5, MAX_LEN), 1))\n",
    "\n",
    "encoder_inputs = torch.LongTensor([sentence(VOCA_SIZE, l, MAX_LEN) for l in encoder_lengths])\n",
    "decoder_inputs = torch.LongTensor([sentence(VOCA_SIZE, l, MAX_LEN) for l in decoder_lengths])\n",
    "print(f\"Encoder lengths: {encoder_lengths}\")\n",
    "print(encoder_inputs)\n",
    "print()\n",
    "print(f\"Decoder lengths: {decoder_lengths}\")\n",
    "print(decoder_inputs)"
   ]
  },
  {
   "cell_type": "code",
   "execution_count": null,
   "metadata": {},
   "outputs": [],
   "source": [
    "context, context_lengths = encoder(encoder_inputs, encoder_lengths)\n",
    "print(f\"Context size: {context.size()}\")\n",
    "print(context[0])"
   ]
  },
  {
   "cell_type": "code",
   "execution_count": null,
   "metadata": {},
   "outputs": [],
   "source": [
    "decoder.eval()\n",
    "sos = torch.tensor([[3]])\n",
    "outputs = decoder(sos, context, context_lengths, decoder_lengths, train=False)\n",
    "print(outputs.size())"
   ]
  },
  {
   "cell_type": "code",
   "execution_count": null,
   "metadata": {},
   "outputs": [],
   "source": [
    "outputs[0]"
   ]
  }
 ],
 "metadata": {
  "kernelspec": {
   "display_name": "Python 3",
   "language": "python",
   "name": "python3"
  },
  "language_info": {
   "codemirror_mode": {
    "name": "ipython",
    "version": 3
   },
   "file_extension": ".py",
   "mimetype": "text/x-python",
   "name": "python",
   "nbconvert_exporter": "python",
   "pygments_lexer": "ipython3",
   "version": "3.6.7"
  }
 },
 "nbformat": 4,
 "nbformat_minor": 2
}
