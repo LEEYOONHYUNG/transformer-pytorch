{
 "cells": [
  {
   "cell_type": "code",
   "execution_count": null,
   "metadata": {},
   "outputs": [],
   "source": [
    "import torch\n",
    "import torch.nn as nn\n",
    "from torch import optim\n",
    "import torch.nn.functional as F\n",
    "from data_prepare import TextPairs, pad_batch\n",
    "import numpy as np\n",
    "import pickle as pkl\n",
    "from torch.utils.data import DataLoader\n",
    "from RNN import RNN_encoder, RNN_decoder\n",
    "from Transformer import Transformer_encoder, Transformer_decoder\n",
    "from datetime import datetime\n",
    "\n",
    "\n",
    "%load_ext autoreload\n",
    "%autoreload 2\n",
    "\n",
    "NUM_EPOCHS = 200\n",
    "BATCH_SIZE = 100\n",
    "VOCA_SIZE = 1500 # smaller than len(text_pairs.voca['en']), len(text_pairs.voca['de'])\n",
    "NUM_LAYERS = 2\n",
    "HIDDEN_DIM = 64\n",
    "EMBEDDING_DIM = 200\n",
    "\n",
    "text_pairs = TextPairs(VOCA_SIZE)\n",
    "textLoader = DataLoader(text_pairs, batch_size=BATCH_SIZE, num_workers=2, collate_fn = pad_batch)\n",
    "valLoader = DataLoader(text_pairs, batch_size=1, collate_fn = pad_batch)\n",
    "\n",
    "SAMPLE = np.random.choice(len(text_pairs), 3, replace=False)\n",
    "\n",
    "print(datetime.now())\n",
    "print(f'\\nVOCA_SIZE: {VOCA_SIZE}')\n",
    "print(f'SAMPLE: {SAMPLE}')"
   ]
  },
  {
   "cell_type": "code",
   "execution_count": null,
   "metadata": {},
   "outputs": [],
   "source": [
    "with open('Data/Glove/glove.6B.200d.pkl', 'rb') as f:\n",
    "    glove = pkl.load(f)\n",
    "\n",
    "embedding_matrix = torch.zeros(VOCA_SIZE, EMBEDDING_DIM)\n",
    "\n",
    "for w in text_pairs.voca['en']:\n",
    "    if glove.get(w) is None:\n",
    "        embedding_matrix[ text_pairs.word2id['en'][w] ] = torch.zeros(EMBEDDING_DIM)\n",
    "    else:\n",
    "        embedding_matrix[ text_pairs.word2id['en'][w] ] = torch.from_numpy(glove.get(w))"
   ]
  },
  {
   "cell_type": "code",
   "execution_count": null,
   "metadata": {},
   "outputs": [],
   "source": [
    "MAX_LEN = text_pairs.max_len\n",
    "encoder = RNN_encoder(NUM_LAYERS, HIDDEN_DIM, VOCA_SIZE, EMBEDDING_DIM, embedding_matrix)\n",
    "decoder = RNN_decoder(NUM_LAYERS, HIDDEN_DIM, VOCA_SIZE, EMBEDDING_DIM, MAX_LEN)\n",
    "\n",
    "encoder_params = sum(p.numel() for p in encoder.parameters())\n",
    "decoder_params = sum(p.numel() for p in decoder.parameters())\n",
    "print(f'Total number of parameters: {encoder_params+decoder_params}')"
   ]
  },
  {
   "cell_type": "code",
   "execution_count": null,
   "metadata": {
    "scrolled": false
   },
   "outputs": [],
   "source": [
    "device = torch.device('cpu')\n",
    "encoder_optimizer = torch.optim.Adam(encoder.parameters(), lr=0.005)\n",
    "decoder_optimizer = torch.optim.Adam(decoder.parameters(), lr=0.005)\n",
    "criterion = nn.CrossEntropyLoss() \n",
    "\n",
    "print(datetime.now())\n",
    "print()\n",
    "for epoch in range(NUM_EPOCHS):\n",
    "    for i, data in enumerate(textLoader):\n",
    "        en_text, de_text = data\n",
    "        en_text, de_text = en_text.to(device), de_text.to(device)\n",
    "\n",
    "        encoder_inputs, decoder_inputs = en_text, de_text[:,:-1]\n",
    "        labels = de_text[:,1:]\n",
    "        \n",
    "        context = encoder(encoder_inputs)\n",
    "        \n",
    "        \n",
    "        preds = decoder(decoder_inputs, context, train=True) # BATCH_SIZE, MAX_LEN, hidden_dim\n",
    "       \n",
    "\n",
    "        loss = criterion( preds.view(-1, VOCA_SIZE), labels.contiguous().view(-1))\n",
    "\n",
    "        encoder_optimizer.zero_grad()\n",
    "        decoder_optimizer.zero_grad()\n",
    "\n",
    "        loss.backward()\n",
    "\n",
    "        encoder_optimizer.step()\n",
    "        decoder_optimizer.step()\n",
    "        \n",
    "    if (epoch+1) % 1==0:\n",
    "        print(f'{loss.item():.3f}\\t{str(datetime.now())}')\n",
    "        with torch.no_grad():\n",
    "            for j, data in enumerate(valLoader):\n",
    "                if j in SAMPLE:\n",
    "                    en_text, de_text = data\n",
    "\n",
    "                    context = encoder(en_text)\n",
    "                    sos = torch.tensor([[2]])\n",
    "                    \n",
    "                    \n",
    "                    preds = decoder( sos, context, train=False) # BATCH_SIZE, MAX_LEN, hidden_dim\n",
    "                    tokens = torch.argmax(preds[0], dim=-1)\n",
    "                    text = [ text_pairs.voca['de'][t] for t in tokens ]\n",
    "\n",
    "                    print('Pred:\\t', text)\n",
    "                    print('Target:\\t', [ text_pairs.voca['de'][t] for t in de_text[0] ][1:] )\n",
    "                    print()"
   ]
  }
 ],
 "metadata": {
  "kernelspec": {
   "display_name": "Python 3",
   "language": "python",
   "name": "python3"
  },
  "language_info": {
   "codemirror_mode": {
    "name": "ipython",
    "version": 3
   },
   "file_extension": ".py",
   "mimetype": "text/x-python",
   "name": "python",
   "nbconvert_exporter": "python",
   "pygments_lexer": "ipython3",
   "version": "3.6.7"
  }
 },
 "nbformat": 4,
 "nbformat_minor": 2
}
