{
 "cells": [
  {
   "cell_type": "code",
   "execution_count": 1,
   "metadata": {},
   "outputs": [],
   "source": [
    "import torch\n",
    "import torch.nn as nn\n",
    "import torch.nn.functional as F\n",
    "from Transformer import Transformer_encoder, Transformer_decoder\n",
    "import matplotlib.pyplot as plt\n",
    "from math import sin, cos\n",
    "import seaborn as sns\n",
    "import numpy as np\n",
    "\n",
    "%load_ext autoreload\n",
    "%autoreload 2\n",
    "\n",
    "BATCH_SIZE = 1\n",
    "MAX_LEN = 5\n",
    "VOCA_SIZE = 10000\n",
    "NUM_LAYERS = 3\n",
    "NUM_HEADS = 2\n",
    "EMBEDDING_DIM = 4\n",
    "\n",
    "def sentence(voca_size, length, max_len):\n",
    "    s = np.random.choice(voca_size, length)\n",
    "    pad = np.zeros(max_len -length)\n",
    "    return np.concatenate([s,pad])"
   ]
  },
  {
   "cell_type": "markdown",
   "metadata": {},
   "source": [
    "# ENCODER"
   ]
  },
  {
   "cell_type": "code",
   "execution_count": 2,
   "metadata": {},
   "outputs": [
    {
     "name": "stdout",
     "output_type": "stream",
     "text": [
      "Encoder inputs:\n",
      "tensor([[6179, 1113, 1003, 4753,    0]])\n",
      "\n"
     ]
    }
   ],
   "source": [
    "encoder_lengths = list(np.random.choice(range(2,MAX_LEN), BATCH_SIZE))\n",
    "encoder_inputs = torch.LongTensor([sentence(VOCA_SIZE, l, MAX_LEN) for l in encoder_lengths])\n",
    "print(f\"Encoder inputs:\")\n",
    "print(encoder_inputs)\n",
    "print()"
   ]
  },
  {
   "cell_type": "code",
   "execution_count": 3,
   "metadata": {
    "scrolled": false
   },
   "outputs": [
    {
     "name": "stdout",
     "output_type": "stream",
     "text": [
      "Context size: torch.Size([1, 5, 4])\n",
      "Encoder lengths: [4]\n",
      "tensor([[[-1.5599, -0.0335,  0.4118,  1.1816],\n",
      "         [ 1.7072, -0.5390, -0.3469, -0.8212],\n",
      "         [ 1.2864, -1.4800,  0.3576, -0.1640],\n",
      "         [ 0.3521, -1.2853, -0.4791,  1.4123],\n",
      "         [ 0.0000,  0.0000,  0.0000,  0.0000]]], grad_fn=<AddcmulBackward>)\n"
     ]
    }
   ],
   "source": [
    "encoder = Transformer_encoder(NUM_LAYERS, NUM_HEADS, VOCA_SIZE, EMBEDDING_DIM)\n",
    "context = encoder(encoder_inputs)\n",
    "print(f\"Context size: {context.size()}\")\n",
    "print(f\"Encoder lengths: {encoder_lengths}\")\n",
    "print(context)"
   ]
  },
  {
   "cell_type": "markdown",
   "metadata": {},
   "source": [
    "# DECODER"
   ]
  },
  {
   "cell_type": "code",
   "execution_count": 4,
   "metadata": {
    "scrolled": true
   },
   "outputs": [
    {
     "name": "stdout",
     "output_type": "stream",
     "text": [
      "Decoder inputs:\n",
      "tensor([[ 191, 5344,  606, 4918,    0]])\n"
     ]
    }
   ],
   "source": [
    "decoder_lengths = list(np.random.choice(range(2, MAX_LEN), BATCH_SIZE))\n",
    "decoder_inputs = torch.LongTensor([sentence(VOCA_SIZE, l, MAX_LEN) for l in decoder_lengths])\n",
    "\n",
    "print(f\"Decoder inputs:\")\n",
    "print(decoder_inputs)"
   ]
  },
  {
   "cell_type": "code",
   "execution_count": 5,
   "metadata": {
    "scrolled": false
   },
   "outputs": [
    {
     "name": "stdout",
     "output_type": "stream",
     "text": [
      "Decoder output size: torch.Size([1, 5, 10000])\n",
      "Decoder lengths: [4]\n",
      "tensor([[[-0.2263,  0.3481,  0.2369,  ..., -0.9305,  0.7762, -1.4372],\n",
      "         [-0.5431, -0.1412, -0.7730,  ...,  0.8486, -0.0276,  0.7954],\n",
      "         [-1.0668,  0.6207,  0.6913,  ...,  0.9590,  0.7337,  0.8203],\n",
      "         [-0.1631,  0.4238,  0.4986,  ..., -0.3782,  0.1453, -1.0012],\n",
      "         [-0.3810,  0.1576, -0.1229,  ...,  0.1578,  0.1786, -0.1664]]],\n",
      "       grad_fn=<AddBackward0>)\n"
     ]
    }
   ],
   "source": [
    "decoder = Transformer_decoder(NUM_LAYERS, NUM_HEADS, VOCA_SIZE, EMBEDDING_DIM, MAX_LEN)\n",
    "outputs = decoder(decoder_inputs, context, train=True)\n",
    "print(f\"Decoder output size: {outputs.size()}\")\n",
    "print(f\"Decoder lengths: {decoder_lengths}\")\n",
    "print(outputs)"
   ]
  },
  {
   "cell_type": "markdown",
   "metadata": {},
   "source": [
    "# Inference"
   ]
  },
  {
   "cell_type": "code",
   "execution_count": 6,
   "metadata": {},
   "outputs": [
    {
     "name": "stdout",
     "output_type": "stream",
     "text": [
      "Encoder lengths: [3]\n",
      "tensor([[1583,  674, 9172,    0,    0]])\n"
     ]
    }
   ],
   "source": [
    "encoder_lengths = list(np.random.choice(range(2, MAX_LEN), 1))\n",
    "decoder_lengths = list(np.random.choice(range(2, MAX_LEN), 1))\n",
    "\n",
    "encoder_inputs = torch.LongTensor([sentence(VOCA_SIZE, l, MAX_LEN) for l in encoder_lengths])\n",
    "print(f\"Encoder lengths: {encoder_lengths}\")\n",
    "print(encoder_inputs)"
   ]
  },
  {
   "cell_type": "code",
   "execution_count": 7,
   "metadata": {},
   "outputs": [
    {
     "name": "stdout",
     "output_type": "stream",
     "text": [
      "Context size: torch.Size([1, 5, 4])\n",
      "tensor([[[-1.6683,  0.5388,  0.9446,  0.1849],\n",
      "         [ 0.3961,  0.5981, -1.7200,  0.7258],\n",
      "         [ 1.0363, -1.3185,  0.8987, -0.6164],\n",
      "         [ 0.0000,  0.0000,  0.0000,  0.0000],\n",
      "         [ 0.0000,  0.0000,  0.0000,  0.0000]]], grad_fn=<AddcmulBackward>)\n"
     ]
    }
   ],
   "source": [
    "context = encoder(encoder_inputs)\n",
    "print(f\"Context size: {context.size()}\")\n",
    "print(context)"
   ]
  },
  {
   "cell_type": "code",
   "execution_count": 8,
   "metadata": {},
   "outputs": [
    {
     "name": "stdout",
     "output_type": "stream",
     "text": [
      "outputs size: torch.Size([1, 5, 10000])\n",
      "tensor([[-0.4742, -0.0823, -0.5671,  ...,  1.2221, -0.5087,  1.0663],\n",
      "        [-0.7382,  0.2376,  0.0471,  ...,  1.4286, -0.2412,  1.2623],\n",
      "        [-0.8098,  0.5106,  0.6302,  ...,  1.5239, -0.2501,  1.2395],\n",
      "        [-0.6865,  0.8304,  1.2111,  ...,  0.0125,  0.7494, -0.4918],\n",
      "        [-0.9732,  0.9132,  1.3609,  ...,  0.8023,  0.6100,  0.4235]],\n",
      "       grad_fn=<SelectBackward>)\n"
     ]
    }
   ],
   "source": [
    "decoder.eval()\n",
    "sos = torch.zeros(1,MAX_LEN, dtype=torch.long)\n",
    "sos[0,0] = 2\n",
    "sos[0,:5] = torch.LongTensor([2,0,0,0,0])\n",
    "outputs = decoder(sos, context, train=False)\n",
    "print(f\"outputs size: {outputs.size()}\")\n",
    "print(outputs[0])"
   ]
  }
 ],
 "metadata": {
  "kernelspec": {
   "display_name": "Python 3",
   "language": "python",
   "name": "python3"
  },
  "language_info": {
   "codemirror_mode": {
    "name": "ipython",
    "version": 3
   },
   "file_extension": ".py",
   "mimetype": "text/x-python",
   "name": "python",
   "nbconvert_exporter": "python",
   "pygments_lexer": "ipython3",
   "version": "3.6.7"
  }
 },
 "nbformat": 4,
 "nbformat_minor": 2
}
