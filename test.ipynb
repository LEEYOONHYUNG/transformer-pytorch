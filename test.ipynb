{
 "cells": [
  {
   "cell_type": "code",
   "execution_count": 1,
   "metadata": {},
   "outputs": [],
   "source": [
    "import torch\n",
    "import torch.nn as nn\n",
    "import torch.nn.functional as F\n",
    "from Transformer import Encoder, Decoder\n",
    "import matplotlib.pyplot as plt\n",
    "from math import sin, cos\n",
    "import seaborn as sns\n",
    "import numpy as np\n",
    "\n",
    "%load_ext autoreload\n",
    "%autoreload 2"
   ]
  },
  {
   "cell_type": "code",
   "execution_count": 2,
   "metadata": {},
   "outputs": [
    {
     "name": "stdout",
     "output_type": "stream",
     "text": [
      "Context size:  torch.Size([3, 10, 8])\n",
      "tensor([[-0.4280,  0.9476, -1.0397,  1.9764, -1.2127, -0.5322, -0.1166,  0.4051],\n",
      "        [-0.5791, -0.4055, -0.2161,  2.4323, -0.8854,  0.4218, -0.7587, -0.0093],\n",
      "        [ 0.9139,  0.6838, -1.4049,  1.6806, -0.8764,  0.3960, -0.6546, -0.7386],\n",
      "        [-0.2500, -0.1803, -0.5687,  2.3826, -1.2275, -0.2026,  0.4452, -0.3987],\n",
      "        [-1.8254,  0.1714, -0.4451,  1.4151, -0.8185,  0.8280, -0.3165,  0.9911],\n",
      "        [-1.1497, -0.9666,  0.1791,  2.0916, -0.8233,  0.7847, -0.1931,  0.0773],\n",
      "        [ 0.6784,  0.0045, -0.8634,  1.9100, -1.2340,  0.0391,  0.5927, -1.1272],\n",
      "        [ 0.1405,  0.6686, -1.1558,  1.3979, -1.9764,  0.2674,  0.4855,  0.1723],\n",
      "        [ 0.0000,  0.0000,  0.0000,  0.0000,  0.0000,  0.0000,  0.0000,  0.0000],\n",
      "        [ 0.0000,  0.0000,  0.0000,  0.0000,  0.0000,  0.0000,  0.0000,  0.0000]],\n",
      "       grad_fn=<SelectBackward>)\n",
      "\n",
      "Decoder output size:  torch.Size([3, 10, 8])\n",
      "tensor([[-1.0886, -0.4183,  1.3957,  1.7429, -0.2234,  0.3129, -0.7490, -0.9724],\n",
      "        [-1.1096, -0.6687,  0.4635,  0.4083,  1.6298,  0.8608, -1.5946,  0.0105],\n",
      "        [ 0.9362, -1.8130,  0.2805,  0.5162,  1.3722, -0.0177, -1.2681, -0.0063],\n",
      "        [-0.7237, -1.8047, -0.0074, -0.0316,  1.2338,  1.2456, -0.7111,  0.7993],\n",
      "        [ 0.0000,  0.0000,  0.0000,  0.0000,  0.0000,  0.0000,  0.0000,  0.0000],\n",
      "        [ 0.0000,  0.0000,  0.0000,  0.0000,  0.0000,  0.0000,  0.0000,  0.0000],\n",
      "        [ 0.0000,  0.0000,  0.0000,  0.0000,  0.0000,  0.0000,  0.0000,  0.0000],\n",
      "        [ 0.0000,  0.0000,  0.0000,  0.0000,  0.0000,  0.0000,  0.0000,  0.0000],\n",
      "        [ 0.0000,  0.0000,  0.0000,  0.0000,  0.0000,  0.0000,  0.0000,  0.0000],\n",
      "        [ 0.0000,  0.0000,  0.0000,  0.0000,  0.0000,  0.0000,  0.0000,  0.0000]],\n",
      "       grad_fn=<SelectBackward>)\n"
     ]
    }
   ],
   "source": [
    "BATCH_SIZE = 3\n",
    "MAX_LEN = 10\n",
    "NUM_LAYERS = 3\n",
    "NUM_HEADS = 4\n",
    "EMBEDDING_DIM = 8\n",
    "\n",
    "encoder_inputs = torch.randn(BATCH_SIZE, MAX_LEN, EMBEDDING_DIM)\n",
    "decoder_inputs = torch.randn(BATCH_SIZE, MAX_LEN, EMBEDDING_DIM)\n",
    "\n",
    "encoder = Encoder(NUM_LAYERS, NUM_HEADS, EMBEDDING_DIM)\n",
    "decoder = Decoder(NUM_LAYERS, NUM_HEADS, EMBEDDING_DIM)\n",
    "\n",
    "encoder_lengths = np.ones(BATCH_SIZE)*MAX_LEN\n",
    "encoder_lengths[0] = 8\n",
    "\n",
    "decoder_lengths = np.ones(BATCH_SIZE)*MAX_LEN\n",
    "decoder_lengths[0] = 4\n",
    "\n",
    "\n",
    "context = encoder(encoder_inputs, encoder_lengths)\n",
    "outputs = decoder(decoder_inputs, context, decoder_lengths)\n",
    "\n",
    "print(\"Context size: \", context.size())\n",
    "print(context[0])\n",
    "print()\n",
    "print(\"Decoder output size: \", outputs.size())\n",
    "print(outputs[0])"
   ]
  }
 ],
 "metadata": {
  "kernelspec": {
   "display_name": "Python 3",
   "language": "python",
   "name": "python3"
  },
  "language_info": {
   "codemirror_mode": {
    "name": "ipython",
    "version": 3
   },
   "file_extension": ".py",
   "mimetype": "text/x-python",
   "name": "python",
   "nbconvert_exporter": "python",
   "pygments_lexer": "ipython3",
   "version": "3.6.7"
  }
 },
 "nbformat": 4,
 "nbformat_minor": 2
}
